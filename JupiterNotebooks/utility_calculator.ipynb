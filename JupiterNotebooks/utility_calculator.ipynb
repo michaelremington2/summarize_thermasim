{
 "cells": [
  {
   "cell_type": "code",
   "execution_count": 1,
   "metadata": {},
   "outputs": [],
   "source": [
    "import numpy as np\n",
    "import matplotlib.pyplot as plt\n",
    "import pandas as pd\n",
    "\n",
    "from scipy.special import softmax\n",
    "\n",
    "behaviors = ['Forage', 'Thermoregulate', 'Rest']\n",
    "microhabitats = ['Burrow', 'Open']\n",
    "\n",
    "static_utility_vector = np.array([\n",
    "    [0, 1],  # Forage: Burrow = 0, Open = 1\n",
    "    [1, 1],  # Thermoregulate: Burrow = 1, Open = 1\n",
    "    [1, 0]   # Rest: Burrow = 1, Open = 0\n",
    "])"
   ]
  },
  {
   "cell_type": "code",
   "execution_count": 16,
   "metadata": {},
   "outputs": [
    {
     "name": "stdout",
     "output_type": "stream",
     "text": [
      "<enumerate object at 0x755b5cb03010>\n"
     ]
    }
   ],
   "source": [
    "print(enumerate(['Forage', 'Thermoregulate', 'Rest']))"
   ]
  },
  {
   "cell_type": "code",
   "execution_count": 4,
   "metadata": {},
   "outputs": [
    {
     "name": "stdout",
     "output_type": "stream",
     "text": [
      "Preference Vector\n",
      "Shape (3, 1)\n",
      "[[0.02173913]\n",
      " [0.4       ]\n",
      " [0.97826087]]\n",
      "_________________________\n",
      "Static Vector\n",
      "Shape (3, 2)\n",
      "[[0 1]\n",
      " [1 1]\n",
      " [1 0]]\n",
      "_________________________\n",
      "Adjusted Utility Vector\n",
      "Shape (3, 2)\n",
      "[[0.         0.02173913]\n",
      " [0.4        0.4       ]\n",
      " [0.97826087 0.        ]]\n",
      "Softmax Probability Distribution\n",
      "Shape (6,)\n",
      "[0.         0.15332449 0.22381445 0.22381445 0.39904661 0.        ]\n",
      "Utilities: [[      -inf 0.02173913]\n",
      " [0.4        0.4       ]\n",
      " [0.97826087       -inf]]\n",
      "Flattened Probabilities: [0.         0.15332449 0.22381445 0.22381445 0.39904661 0.        ]\n",
      "Sampled Index (Flat): 4\n",
      "Sampled Row, Col: (Rest, Burrow)\n"
     ]
    }
   ],
   "source": [
    "# Constants\n",
    "krat_cals_per_gram = 1.38\n",
    "digestion_efficiency = 0.8\n",
    "krat_mass = 70  # grams\n",
    "krat_meal = krat_cals_per_gram * krat_mass * digestion_efficiency\n",
    "\n",
    "max_meals = 10\n",
    "\n",
    "max_thermal_quality = 5\n",
    "max_metabolic_state = krat_meal*max_meals\n",
    "\n",
    "thermal_quality = np.random.randint(0, 5)  # Random integer between 0 (inclusive) and 5 (exclusive)\n",
    "metabolic_state = np.random.randint(0, 800)\n",
    "\n",
    "# Scale utilities\n",
    "metabolic_state_scaled = metabolic_state / max_metabolic_state\n",
    "thermal_quality_scaled = thermal_quality / max_thermal_quality\n",
    "\n",
    "# Compute utilities\n",
    "U_forage = 1 - metabolic_state_scaled\n",
    "U_rest = metabolic_state_scaled  # High preference for resting when energy is high\n",
    "U_thermoregulate = thermal_quality_scaled  # High preference for thermoregulation when thermal need is high\n",
    "\n",
    "preference_vector = np.array([[U_forage],\n",
    "                             [U_thermoregulate],\n",
    "                             [U_rest]])\n",
    "print('Preference Vector')\n",
    "print(f'Shape {preference_vector.shape}')\n",
    "print(f'{preference_vector}')\n",
    "print('_________________________')\n",
    "\n",
    "print('Static Vector')\n",
    "print(f'Shape {static_utility_vector.shape}')\n",
    "print(f'{static_utility_vector}')\n",
    "print('_________________________')\n",
    "\n",
    "adjusted_utility = preference_vector*static_utility_vector\n",
    "\n",
    "print('Adjusted Utility Vector')\n",
    "print(f'Shape {adjusted_utility.shape}')\n",
    "print(f'{adjusted_utility}')\n",
    "masked_utility = np.where(adjusted_utility == 0, -np.inf, adjusted_utility)\n",
    "\n",
    "softmax_probs = softmax(masked_utility.flatten())\n",
    "\n",
    "print('Softmax Probability Distribution')\n",
    "print(f'Shape {softmax_probs.shape}')\n",
    "print(f'{softmax_probs}')\n",
    "\n",
    "sampled_index = np.random.choice(len(softmax_probs), p=softmax_probs)\n",
    "\n",
    "# Map the flat index back to the original 2D indices\n",
    "rows, cols = adjusted_utility.shape\n",
    "sampled_row, sampled_col = divmod(sampled_index, cols)\n",
    "\n",
    "# Output results\n",
    "print(\"Utilities:\", masked_utility)\n",
    "print(\"Flattened Probabilities:\", softmax_probs)\n",
    "print(f\"Sampled Index (Flat): {sampled_index}\")\n",
    "print(f\"Sampled Row, Col: ({behaviors[sampled_row]}, {microhabitats[sampled_col]})\")\n"
   ]
  },
  {
   "cell_type": "code",
   "execution_count": 7,
   "metadata": {},
   "outputs": [
    {
     "data": {
      "application/vnd.jupyter.widget-view+json": {
       "model_id": "5c0b652eaee642d083d4aad80bc615d2",
       "version_major": 2,
       "version_minor": 0
      },
      "text/plain": [
       "interactive(children=(FloatSlider(value=5.0, description='Max Thermal Quality', max=10.0, min=1.0, step=0.5), …"
      ]
     },
     "metadata": {},
     "output_type": "display_data"
    },
    {
     "data": {
      "text/plain": [
       "<function __main__.plot_probabilities(max_tq=5, max_ms=800, num_points=50)>"
      ]
     },
     "execution_count": 7,
     "metadata": {},
     "output_type": "execute_result"
    }
   ],
   "source": [
    "import numpy as np\n",
    "import matplotlib.pyplot as plt\n",
    "from scipy.special import softmax\n",
    "import ipywidgets as widgets\n",
    "from ipywidgets import interact\n",
    "\n",
    "# Constants\n",
    "krat_cals_per_gram = 1.38\n",
    "digestion_efficiency = 0.8\n",
    "krat_mass = 70  # grams\n",
    "krat_meal = krat_cals_per_gram * krat_mass * digestion_efficiency\n",
    "\n",
    "max_meals = 10\n",
    "max_thermal_quality = 5\n",
    "max_metabolic_state = krat_meal * max_meals\n",
    "\n",
    "# Static utility vector (3x2 matrix)\n",
    "static_utility_vector = np.array([\n",
    "    [0, 1],  # Forage: Burrow, Open\n",
    "    [1, 1],  # Thermoregulate: Burrow, Open\n",
    "    [1, 0]   # Rest: Burrow, Open\n",
    "])\n",
    "\n",
    "# Define the function to generate and plot probabilities\n",
    "def plot_probabilities(max_tq=5, max_ms=800, num_points=50):\n",
    "    # Generate thermal quality and metabolic state ranges\n",
    "    thermal_quality_values = np.linspace(0, max_tq, num_points)\n",
    "    metabolic_state_values = np.linspace(0, max_ms, num_points)\n",
    "\n",
    "    # Initialize arrays to store probabilities\n",
    "    probabilities = []\n",
    "\n",
    "    # Iterate over thermal quality and metabolic state combinations\n",
    "    for tq in thermal_quality_values:\n",
    "        row_probs = []\n",
    "        for ms in metabolic_state_values:\n",
    "            # Scale inputs\n",
    "            metabolic_state_scaled = ms / max_metabolic_state\n",
    "            thermal_quality_scaled = tq / max_thermal_quality\n",
    "\n",
    "            # Compute preference vector\n",
    "            U_forage = 1 - metabolic_state_scaled\n",
    "            U_rest = metabolic_state_scaled\n",
    "            U_thermoregulate = thermal_quality_scaled\n",
    "            preference_vector = np.array([[U_forage],\n",
    "                                           [U_thermoregulate],\n",
    "                                           [U_rest]])\n",
    "\n",
    "            # Compute adjusted utility\n",
    "            adjusted_utility = preference_vector * static_utility_vector\n",
    "\n",
    "            # Mask infeasible utilities\n",
    "            masked_utility = np.where(adjusted_utility == 0, -np.inf, adjusted_utility)\n",
    "\n",
    "            # Compute softmax probabilities\n",
    "            softmax_probs = softmax(masked_utility.flatten())\n",
    "\n",
    "            # Store total probabilities for the current combination\n",
    "            row_probs.append(softmax_probs)\n",
    "\n",
    "        probabilities.append(row_probs)\n",
    "\n",
    "    # Convert probabilities to a NumPy array for easier plotting\n",
    "    probabilities = np.array(probabilities)\n",
    "\n",
    "    # Plot results\n",
    "    fig, axs = plt.subplots(3, 2, figsize=(12, 12), sharex=True, sharey=True)\n",
    "\n",
    "    behaviors = ['Forage', 'Thermoregulate', 'Rest']\n",
    "    microhabitats = ['Burrow', 'Open']\n",
    "\n",
    "    for i, behavior in enumerate(behaviors):\n",
    "        for j, microhabitat in enumerate(microhabitats):\n",
    "            c = axs[i, j].imshow(\n",
    "                probabilities[:, :, i * 2 + j].T,  # Select the correct slice\n",
    "                extent=[0, max_tq, 0, max_ms],\n",
    "                origin='lower',\n",
    "                aspect='auto',\n",
    "                cmap='viridis',\n",
    "                vmin=0,  # Set minimum value of color scale to 0\n",
    "                vmax=1   # Set maximum value of color scale to 1\n",
    "            )\n",
    "            axs[i, j].set_title(f\"{behavior} in {microhabitat}\")\n",
    "            axs[i, j].set_xlabel(\"Thermal Quality\")\n",
    "            axs[i, j].set_ylabel(\"Metabolic State\")\n",
    "            fig.colorbar(c, ax=axs[i, j], label='Probability')\n",
    "\n",
    "    plt.tight_layout()\n",
    "    plt.show()\n",
    "\n",
    "# Create sliders for interactive input\n",
    "interact(\n",
    "    plot_probabilities,\n",
    "    max_tq=widgets.FloatSlider(value=5, min=1, max=10, step=0.5, description='Max Thermal Quality'),\n",
    "    max_ms=widgets.FloatSlider(value=800, min=200, max=1500, step=50, description='Max Metabolic State'),\n",
    "    num_points=widgets.IntSlider(value=50, min=10, max=100, step=10, description='Resolution')\n",
    ")\n"
   ]
  },
  {
   "cell_type": "code",
   "execution_count": 2,
   "metadata": {},
   "outputs": [
    {
     "name": "stdout",
     "output_type": "stream",
     "text": [
      "[0. 0. 0.]\n"
     ]
    }
   ],
   "source": [
    "import numpy as np\n",
    "print(np.zeros(3, dtype=float))"
   ]
  }
 ],
 "metadata": {
  "kernelspec": {
   "display_name": "therma_sim",
   "language": "python",
   "name": "python3"
  },
  "language_info": {
   "codemirror_mode": {
    "name": "ipython",
    "version": 3
   },
   "file_extension": ".py",
   "mimetype": "text/x-python",
   "name": "python",
   "nbconvert_exporter": "python",
   "pygments_lexer": "ipython3",
   "version": "3.11.5"
  }
 },
 "nbformat": 4,
 "nbformat_minor": 2
}
